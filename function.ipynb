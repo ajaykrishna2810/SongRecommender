{
 "cells": [
  {
   "cell_type": "code",
   "execution_count": 39,
   "id": "03fea7a5",
   "metadata": {},
   "outputs": [],
   "source": [
    "# 1. import libraries\n",
    "from bs4 import BeautifulSoup\n",
    "import requests\n",
    "import pandas as pd\n",
    "df = pd.read_csv(\"billboard100_data.csv\")"
   ]
  },
  {
   "cell_type": "code",
   "execution_count": 42,
   "id": "a61f8221",
   "metadata": {
    "scrolled": true
   },
   "outputs": [
    {
     "name": "stdout",
     "output_type": "stream",
     "text": [
      "Enter a song you like: Kill Bi\n"
     ]
    }
   ],
   "source": [
    "x = input('Enter a song you like: ')"
   ]
  },
  {
   "cell_type": "code",
   "execution_count": null,
   "id": "7bb97bfc",
   "metadata": {},
   "outputs": [],
   "source": [
    "if x in df.values:\n",
    "    print(\"\\nThis song exists in the data set.\")\n",
    "    ###  recommendation ###\n",
    "else:\n",
    "        print(\"\\nThis song does not exists in the data set.\")\n",
    "        "
   ]
  }
 ],
 "metadata": {
  "kernelspec": {
   "display_name": "Python 3 (ipykernel)",
   "language": "python",
   "name": "python3"
  },
  "language_info": {
   "codemirror_mode": {
    "name": "ipython",
    "version": 3
   },
   "file_extension": ".py",
   "mimetype": "text/x-python",
   "name": "python",
   "nbconvert_exporter": "python",
   "pygments_lexer": "ipython3",
   "version": "3.9.13"
  }
 },
 "nbformat": 4,
 "nbformat_minor": 5
}
