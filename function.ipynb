{
 "cells": [
  {
   "cell_type": "code",
   "execution_count": 163,
   "id": "2f1836da",
   "metadata": {
    "scrolled": true
   },
   "outputs": [],
   "source": [
    "# 1. import libraries\n",
    "from bs4 import BeautifulSoup\n",
    "import requests\n",
    "import pandas as pd\n",
    "df = pd.read_csv(\"billboard100_data.csv\")"
   ]
  },
  {
   "cell_type": "code",
   "execution_count": 164,
   "id": "28150e18",
   "metadata": {},
   "outputs": [
    {
     "data": {
      "text/html": [
       "<div>\n",
       "<style scoped>\n",
       "    .dataframe tbody tr th:only-of-type {\n",
       "        vertical-align: middle;\n",
       "    }\n",
       "\n",
       "    .dataframe tbody tr th {\n",
       "        vertical-align: top;\n",
       "    }\n",
       "\n",
       "    .dataframe thead th {\n",
       "        text-align: right;\n",
       "    }\n",
       "</style>\n",
       "<table border=\"1\" class=\"dataframe\">\n",
       "  <thead>\n",
       "    <tr style=\"text-align: right;\">\n",
       "      <th></th>\n",
       "      <th>title</th>\n",
       "      <th>author</th>\n",
       "    </tr>\n",
       "  </thead>\n",
       "  <tbody>\n",
       "    <tr>\n",
       "      <th>0</th>\n",
       "      <td>flowers</td>\n",
       "      <td>miley cyrus</td>\n",
       "    </tr>\n",
       "    <tr>\n",
       "      <th>1</th>\n",
       "      <td>kill bill</td>\n",
       "      <td>sza</td>\n",
       "    </tr>\n",
       "    <tr>\n",
       "      <th>2</th>\n",
       "      <td>last night</td>\n",
       "      <td>morgan wallen</td>\n",
       "    </tr>\n",
       "    <tr>\n",
       "      <th>3</th>\n",
       "      <td>unholy</td>\n",
       "      <td>sam smith &amp; kim petras</td>\n",
       "    </tr>\n",
       "    <tr>\n",
       "      <th>4</th>\n",
       "      <td>creepin'</td>\n",
       "      <td>metro boomin, the weeknd &amp; 21 savage</td>\n",
       "    </tr>\n",
       "    <tr>\n",
       "      <th>...</th>\n",
       "      <td>...</td>\n",
       "      <td>...</td>\n",
       "    </tr>\n",
       "    <tr>\n",
       "      <th>95</th>\n",
       "      <td>yandel 150</td>\n",
       "      <td>yandel &amp; feid</td>\n",
       "    </tr>\n",
       "    <tr>\n",
       "      <th>96</th>\n",
       "      <td>heart to heart</td>\n",
       "      <td>mac demarco</td>\n",
       "    </tr>\n",
       "    <tr>\n",
       "      <th>97</th>\n",
       "      <td>next thing you know</td>\n",
       "      <td>jordan davis</td>\n",
       "    </tr>\n",
       "    <tr>\n",
       "      <th>98</th>\n",
       "      <td>never gonna not dance again</td>\n",
       "      <td>p!nk</td>\n",
       "    </tr>\n",
       "    <tr>\n",
       "      <th>99</th>\n",
       "      <td>open arms</td>\n",
       "      <td>sza featuring travis scott</td>\n",
       "    </tr>\n",
       "  </tbody>\n",
       "</table>\n",
       "<p>100 rows × 2 columns</p>\n",
       "</div>"
      ],
      "text/plain": [
       "                          title                                author\n",
       "0                       flowers                           miley cyrus\n",
       "1                     kill bill                                   sza\n",
       "2                    last night                         morgan wallen\n",
       "3                        unholy                sam smith & kim petras\n",
       "4                      creepin'  metro boomin, the weeknd & 21 savage\n",
       "..                          ...                                   ...\n",
       "95                   yandel 150                         yandel & feid\n",
       "96               heart to heart                           mac demarco\n",
       "97          next thing you know                          jordan davis\n",
       "98  never gonna not dance again                                  p!nk\n",
       "99                    open arms            sza featuring travis scott\n",
       "\n",
       "[100 rows x 2 columns]"
      ]
     },
     "execution_count": 164,
     "metadata": {},
     "output_type": "execute_result"
    }
   ],
   "source": [
    "df['title'] = df['title'].map(str.lower) # converting the entries to lower\n",
    "df['author'] = df['author'].map(str.lower) # converting the entries to lower\n",
    "df"
   ]
  },
  {
   "cell_type": "code",
   "execution_count": 166,
   "id": "0aea0798",
   "metadata": {
    "scrolled": true
   },
   "outputs": [
    {
     "name": "stdout",
     "output_type": "stream",
     "text": [
      "Enter a song you like: next thing you know\n",
      "You might like this song: Amg by Gabito Ballesteros, Peso Pluma & Natanael Cano\n"
     ]
    }
   ],
   "source": [
    "x = input('Enter a song you like: ')\n",
    "if x.lower() in df.values:   # converts te entered x into all lower case\n",
    "        rec_song = df['title'].sample().to_string(index=False) # recommendation song. I just removed the indexes as they are not required as the output  \n",
    "        rec_artist = df.loc[df['title'] == rec_song, 'author'].to_string(index=False) # artist of the recommended song\n",
    "        # to_string(index=False) lets you output without index\n",
    "        if x != rec_song:\n",
    "            print(\"You might like this song: \" + rec_song.title() + \" by \" + rec_artist.title())  # .title() makes the first alphabet in every word to upper   \n",
    "else:\n",
    "        print(\"\\nThis song does not exists in the data set.\")\n",
    "        "
   ]
  }
 ],
 "metadata": {
  "kernelspec": {
   "display_name": "Python 3 (ipykernel)",
   "language": "python",
   "name": "python3"
  },
  "language_info": {
   "codemirror_mode": {
    "name": "ipython",
    "version": 3
   },
   "file_extension": ".py",
   "mimetype": "text/x-python",
   "name": "python",
   "nbconvert_exporter": "python",
   "pygments_lexer": "ipython3",
   "version": "3.9.13"
  }
 },
 "nbformat": 4,
 "nbformat_minor": 5
}
