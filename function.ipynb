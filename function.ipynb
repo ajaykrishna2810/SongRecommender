{
 "cells": [
  {
   "cell_type": "code",
   "execution_count": null,
   "id": "2f1836da",
   "metadata": {
    "scrolled": true
   },
   "outputs": [],
   "source": [
    "# 1. import libraries\n",
    "from bs4 import BeautifulSoup\n",
    "import requests\n",
    "import pandas as pd\n",
    "df = pd.read_csv(\"billboard100_data.csv\")"
   ]
  },
  {
   "cell_type": "code",
   "execution_count": null,
   "id": "28150e18",
   "metadata": {},
   "outputs": [],
   "source": [
    "df['title'] = df['title'].map(str.lower) # converting the entries to lower\n",
    "df['author'] = df['author'].map(str.lower) # converting the entries to lower\n",
    "df"
   ]
  },
  {
   "cell_type": "code",
   "execution_count": null,
   "id": "a4621b9e",
   "metadata": {},
   "outputs": [],
   "source": [
    "#from fuzzywuzzy import process\n",
    "#def check_mistakes(song_name, reference_database, title_column, artist_column):\n",
    "#    best_match, score = process.extractOne(song_name, reference_database[title_column].values)\n",
    "#    if score >= 70:\n",
    "#        artist = reference_database[reference_database[title_column] == best_match][artist_column][0]\n",
    "#        answer = input(\"f\\Did you mean {best_match} by {artist}? Y/N: \")\n",
    "#        #answer = input(“”).lower().title()\n",
    "#        if answer == \"Y\":\n",
    "#            return best_match\n",
    "#        if answer == \"N\":\n",
    "#            pass\n",
    "#    else:\n",
    "#        print(\"error\")"
   ]
  },
  {
   "cell_type": "code",
   "execution_count": null,
   "id": "0aea0798",
   "metadata": {
    "scrolled": true
   },
   "outputs": [],
   "source": [
    "x = input('Enter a song you like: ')\n",
    "x_artist = df.loc[df['title'].map(str.lower)  == x.lower(), 'author'] # artist corresponding to song x\n",
    "artist_question = input('Did you mean ' + x.lower().title() + ' by ' + x_artist.to_string(index=False).title() + '? (y/n)')\n",
    "#x_artist.to_string(index=False).title() converts the series x_artist to a string and then uppers the first alphabets\n",
    "#x.lower().title()  lowers the entries and then uppers the first alphabets\n",
    "if artist_question == 'y':\n",
    "    if x.lower() in df.values:   # converts te entered x into all lower case\n",
    "        rec_song = df['title'].sample().to_string(index=False) # recommendation song. I just removed the indexes as they are not required as the output  \n",
    "        rec_artist = df.loc[df['title'] == rec_song, 'author'].to_string(index=False) # artist of the recommended song\n",
    "        # to_string(index=False) lets you output without index\n",
    "        if x != rec_song:\n",
    "            print(\"You might like this song: \" + rec_song.title() + \" by \" + rec_artist.title())  # .title() makes the first alphabet in every word to upper   \n",
    "    else:\n",
    "        print(\"\\nThis song does not exists in the data set.\")\n",
    "else:\n",
    "    print(\"\\nThis song does not exists in the data set.\")\n",
    "        "
   ]
  },
  {
   "cell_type": "markdown",
   "id": "27793d60",
   "metadata": {},
   "source": [
    "# Spotify dataframe"
   ]
  },
  {
   "cell_type": "code",
   "execution_count": null,
   "id": "4829383d",
   "metadata": {},
   "outputs": [],
   "source": [
    "import config\n",
    "import spotipy\n",
    "import json\n",
    "from spotipy.oauth2 import SpotifyClientCredentials\n",
    "\n",
    "sp = spotipy.Spotify(auth_manager=SpotifyClientCredentials(client_id= config.client_id,\n",
    "                                                           client_secret= config.client_secret))\n"
   ]
  },
  {
   "cell_type": "markdown",
   "id": "5aa3b173",
   "metadata": {},
   "source": [
    "Playlists"
   ]
  },
  {
   "cell_type": "code",
   "execution_count": null,
   "id": "eb558ab1",
   "metadata": {},
   "outputs": [],
   "source": [
    "# Rock classics playlist link: https://open.spotify.com/playlist/37i9dQZF1DWXRqgorJj26U?si=013db49871054a73   \n",
    "# Rock classics playlist ID: 37i9dQZF1DWXRqgorJj26U \n",
    "rock_playlist_id = \"37i9dQZF1DWXRqgorJj26U\"\n",
    "playlist_rock = sp.user_playlist_tracks(\"spotify\", rock_playlist_id)\n",
    "#import pprint\n",
    "#pprint.pprint(playlist_rock) # in case you want to check the playlist\n",
    "\n",
    "jazz_playlist_id = \"37i9dQZF1DXbITWG1ZJKYt\"\n",
    "pop_playlist_id = \"7iUGicmg9AkkFhkLiYqYpA\"\n",
    "blues_playlist_id = \"37i9dQZF1DXd9rSDyQguIk\"\n",
    "techno_playlist_id = \"18vUeZ9BdtMRNV6gI8RnR6\"\n",
    "allgenre_playlist_id = \"52oPdG5WK1KcMf78FvFXIa\"\n",
    "\n",
    "electronic_playlist_id = \"37i9dQZF1DX0wMD4IoQ5aJ\"\n",
    "house_playlist_id = \"2otQLmbi8QWHjDfq3eL0DC\"    \n",
    "trend23_playlist_id = \"5JNNpb0q7ZIM3s3j355Anr\"    \n",
    "afro_playlist_id = \"37i9dQZF1DWYs2pvwxWA7l\"\n",
    "rap_playlist_id = \"4riovLwMCrY3q0Cd4e0Sqp\"    \n",
    "brazil_playlist_id = \"37i9dQZF1DX9FSYmdU9mbT\"\n",
    "spanish_playlist_id = \"0dexh2j27EfJtsncx1vjhW\"\n",
    "kpop_playlist_id = \"14dxceLGBZkRAj6WJTfkpj\"    \n",
    "\n",
    "\n",
    "playlist_ids = [rock_playlist_id, jazz_playlist_id, pop_playlist_id, blues_playlist_id, \n",
    "                techno_playlist_id, allgenre_playlist_id, electronic_playlist_id, house_playlist_id,\n",
    "               trend23_playlist_id, afro_playlist_id, rap_playlist_id, brazil_playlist_id, \n",
    "               spanish_playlist_id, kpop_playlist_id]"
   ]
  },
  {
   "cell_type": "code",
   "execution_count": null,
   "id": "67c580c1",
   "metadata": {},
   "outputs": [],
   "source": [
    "# Extracting many songs from the playlist\n",
    "def get_playlist_tracks(username, playlist_id):\n",
    "    results = sp.user_playlist_tracks(username,playlist_id)\n",
    "    tracks = results['items']\n",
    "    while results['next']:\n",
    "        results = sp.next(results)\n",
    "        tracks.extend(results['items'])\n",
    "    return tracks"
   ]
  },
  {
   "cell_type": "code",
   "execution_count": null,
   "id": "72a0e8f7",
   "metadata": {},
   "outputs": [],
   "source": [
    "# Retrieve all tracks from the playlists\n",
    "import time\n",
    "tracks = []\n",
    "counter = 0\n",
    "for playlist_id in playlist_ids:\n",
    "    tracks += get_playlist_tracks('spotify', playlist_id)\n",
    "    counter += 1\n",
    "    if counter % 50 == 0:\n",
    "        time.sleep(5) # sleep for 5 seconds every 50 playlists"
   ]
  },
  {
   "cell_type": "code",
   "execution_count": null,
   "id": "582d6600",
   "metadata": {},
   "outputs": [],
   "source": [
    "# extract song ids from the playlist\n",
    "list_of_audio_features=[]\n",
    "counter1 = 0\n",
    "for item in range(0,len(tracks)):\n",
    "    list_of_audio_features.append(sp.audio_features(tracks[item][\"track\"][\"id\"])[0])\n",
    "    counter1 += 1\n",
    "    if counter % 50 == 0:\n",
    "        time.sleep(5) # sleep for 5 seconds every 50 playlists"
   ]
  },
  {
   "cell_type": "code",
   "execution_count": null,
   "id": "97465cc0",
   "metadata": {},
   "outputs": [],
   "source": [
    "# creating the data frame\n",
    "df_spotify=pd.DataFrame(list_of_audio_features)    \n",
    "df_spotify=df_spotify[[\"danceability\",\"energy\",\"loudness\",\"speechiness\",\"acousticness\",\n",
    "    \"instrumentalness\",\"liveness\",\"valence\",\"tempo\",\"id\",\"duration_ms\"]]\n",
    "\n",
    "df_spotify"
   ]
  },
  {
   "cell_type": "code",
   "execution_count": null,
   "id": "9f5d3ff1",
   "metadata": {},
   "outputs": [],
   "source": [
    "df_spotify.to_csv('spotify_data.csv', index=False)"
   ]
  }
 ],
 "metadata": {
  "kernelspec": {
   "display_name": "Python 3 (ipykernel)",
   "language": "python",
   "name": "python3"
  },
  "language_info": {
   "codemirror_mode": {
    "name": "ipython",
    "version": 3
   },
   "file_extension": ".py",
   "mimetype": "text/x-python",
   "name": "python",
   "nbconvert_exporter": "python",
   "pygments_lexer": "ipython3",
   "version": "3.9.13"
  }
 },
 "nbformat": 4,
 "nbformat_minor": 5
}
