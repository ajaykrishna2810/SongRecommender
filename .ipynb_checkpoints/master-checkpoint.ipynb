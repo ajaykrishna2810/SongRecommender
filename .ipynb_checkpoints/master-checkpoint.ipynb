{
 "cells": [
  {
   "cell_type": "code",
   "execution_count": 127,
   "id": "872d7e83",
   "metadata": {},
   "outputs": [],
   "source": [
    "# 1. import libraries\n",
    "from bs4 import BeautifulSoup\n",
    "import requests\n",
    "import pandas as pd\n",
    "import spotipy\n",
    "import json\n",
    "from spotipy.oauth2 import SpotifyClientCredentials\n",
    "import config\n",
    "from sklearn.preprocessing import StandardScaler\n",
    "from sklearn.cluster import KMeans\n",
    "from IPython.display import IFrame\n",
    "#Initialize SpotiPy with user credentias\n",
    "sp = spotipy.Spotify(auth_manager=SpotifyClientCredentials(client_id= config.client_id,\n",
    "                                                           client_secret= config.client_secret))"
   ]
  },
  {
   "cell_type": "code",
   "execution_count": 128,
   "id": "841c0c47",
   "metadata": {},
   "outputs": [],
   "source": [
    "df = pd.read_csv(\"billboard100_data.csv\") # data of top 100 songs\n",
    "df['title'] = df['title'].map(str.lower) # converting the entries to lower\n",
    "df['author'] = df['author'].map(str.lower) # converting the entries to lower"
   ]
  },
  {
   "cell_type": "code",
   "execution_count": 139,
   "id": "04187015",
   "metadata": {},
   "outputs": [
    {
     "name": "stdout",
     "output_type": "stream",
     "text": [
      "Enter a song you like: inversion\n",
      "You might like this song: Kollera by Dusty Kid\n"
     ]
    },
    {
     "data": {
      "text/html": [
       "\n",
       "        <iframe\n",
       "            width=\"320\"\n",
       "            height=\"80\"\n",
       "            src=\"https://open.spotify.com/embed/track/0ZrXNuryJ6FYjww6jU6RUm?frameborder=0&allowtransparency=true&allow=encrypted-media\"\n",
       "            frameborder=\"0\"\n",
       "            allowfullscreen\n",
       "            \n",
       "        ></iframe>\n",
       "        "
      ],
      "text/plain": [
       "<IPython.lib.display.IFrame at 0x15d40acdf10>"
      ]
     },
     "metadata": {},
     "output_type": "display_data"
    }
   ],
   "source": [
    "x = input('Enter a song you like: ')\n",
    "x_artist = df.loc[df['title'].map(str.lower)  == x.lower(), 'author'] # artist corresponding to song x\n",
    "if x.lower() in df.values:   # converts the entered x into all lower case. When x is in the billboard100\n",
    "        rec_song = df['title'].sample().to_string(index=False) # recommendation song. I just removed the indexes as they are not required as the output  \n",
    "        rec_artist = df.loc[df['title'] == rec_song, 'author'].to_string(index=False) # artist of the recommended song\n",
    "        print(\"You might like this song: \" + rec_song.title() + \" by \" + rec_artist.title())  # .title() makes the first alphabet in every word to upper   \n",
    "else: \n",
    "    results = sp.search(q=x,limit=3,market=\"GB\")\n",
    "    track_id=results[\"tracks\"][\"items\"][0][\"id\"]\n",
    "    x_af = sp.audio_features(track_id) \n",
    "    X_af = pd.DataFrame(x_af)\n",
    "    X_af_num = X_af.drop(['key', 'mode', 'type', 'id', 'uri', 'track_href', 'analysis_url', 'duration_ms', 'time_signature'], axis=1)\n",
    "    df_spotify = pd.read_csv(\"spotify_data.csv\")\n",
    "   \n",
    "    X = df_spotify.drop(['id', 'duration_ms'], axis=1) # spotify data without id and duration\n",
    "    scaler = StandardScaler()\n",
    "    scaler_fitted = scaler.fit(X) # we need scaler_fitted for transforming the song which is to be inputed \n",
    "    X_scaled = scaler_fitted.transform(X)\n",
    "    X_scaled_df = pd.DataFrame(X_scaled, columns = X.columns) # scaled the numerical feature data X\n",
    "\n",
    "    X_af_num_scaled = scaler_fitted.transform(X_af_num) # scaled according to the parameters from scaler_fitted (which you get from your data X)\n",
    "    \n",
    "    kmeans = KMeans(n_clusters=4, random_state=1234)\n",
    "    kmeans.fit(X_scaled_df.values)\n",
    "    song_cluster = kmeans.predict(X_af_num_scaled) # cluster of the inputed song\n",
    "    \n",
    "    df_cluster = pd.read_csv(\"clustered_data.csv\") # data of clustered (4) songs from spotify \n",
    "    if song_cluster == 0:  \n",
    "        mask = df_cluster['cluster'] == 0\n",
    "        selected_rows = df_cluster[mask]\n",
    "        random_row = selected_rows.sample()\n",
    "        track_id = random_row['id'].to_string(index=False)\n",
    "        track = sp.track(track_id)\n",
    "        print('You might like this song: ' + track[\"name\"]+ ' by ' + track[\"album\"][\"artists\"][0][\"name\"]) \n",
    "        display(IFrame(src=\"https://open.spotify.com/embed/track/\"+track_id,\n",
    "               width=\"320\",\n",
    "               height=\"80\",\n",
    "               frameborder=\"0\",\n",
    "               allowtransparency=\"true\",\n",
    "               allow=\"encrypted-media\",))  \n",
    "    elif song_cluster == 1:    \n",
    "        mask = df_cluster['cluster'] == 1\n",
    "        selected_rows = df_cluster[mask]\n",
    "        random_row = selected_rows.sample()\n",
    "        track_id = random_row['id'].to_string(index=False)\n",
    "        track = sp.track(track_id)\n",
    "        print('You might like this song: ' + track[\"name\"]+ ' by ' + track[\"album\"][\"artists\"][0][\"name\"]) \n",
    "        display(IFrame(src=\"https://open.spotify.com/embed/track/\"+track_id,\n",
    "               width=\"320\",\n",
    "               height=\"80\",\n",
    "               frameborder=\"0\",\n",
    "               allowtransparency=\"true\",\n",
    "               allow=\"encrypted-media\",))  \n",
    "    elif song_cluster == 2:\n",
    "        mask = df_cluster['cluster'] == 2\n",
    "        selected_rows = df_cluster[mask]\n",
    "        random_row = selected_rows.sample()\n",
    "        track_id = random_row['id'].to_string(index=False)\n",
    "        track = sp.track(track_id)\n",
    "        print('You might like this song: ' + track[\"name\"]+ ' by ' + track[\"album\"][\"artists\"][0][\"name\"]) \n",
    "        display(IFrame(src=\"https://open.spotify.com/embed/track/\"+track_id,\n",
    "               width=\"320\",\n",
    "               height=\"80\",\n",
    "               frameborder=\"0\",\n",
    "               allowtransparency=\"true\",\n",
    "               allow=\"encrypted-media\",))  \n",
    "    else:\n",
    "        mask = df_cluster['cluster'] == 3\n",
    "        selected_rows = df_cluster[mask]\n",
    "        random_row = selected_rows.sample()\n",
    "        track_id = random_row['id'].to_string(index=False) \n",
    "        track = sp.track(track_id)\n",
    "        print('You might like this song: ' + track[\"name\"] + ' by ' + track[\"album\"][\"artists\"][0][\"name\"])\n",
    "        display(IFrame(src=\"https://open.spotify.com/embed/track/\"+track_id,\n",
    "               width=\"320\",\n",
    "               height=\"80\",\n",
    "               frameborder=\"0\",\n",
    "               allowtransparency=\"true\",\n",
    "               allow=\"encrypted-media\",))  "
   ]
  }
 ],
 "metadata": {
  "kernelspec": {
   "display_name": "Python 3 (ipykernel)",
   "language": "python",
   "name": "python3"
  },
  "language_info": {
   "codemirror_mode": {
    "name": "ipython",
    "version": 3
   },
   "file_extension": ".py",
   "mimetype": "text/x-python",
   "name": "python",
   "nbconvert_exporter": "python",
   "pygments_lexer": "ipython3",
   "version": "3.9.13"
  }
 },
 "nbformat": 4,
 "nbformat_minor": 5
}
