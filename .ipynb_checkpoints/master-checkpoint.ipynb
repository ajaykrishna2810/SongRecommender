{
 "cells": [
  {
   "cell_type": "code",
   "execution_count": 115,
   "id": "872d7e83",
   "metadata": {},
   "outputs": [],
   "source": [
    "# 1. import libraries\n",
    "from bs4 import BeautifulSoup\n",
    "import requests\n",
    "import pandas as pd\n",
    "import spotipy\n",
    "import json\n",
    "from spotipy.oauth2 import SpotifyClientCredentials\n",
    "import config\n",
    "from sklearn.preprocessing import StandardScaler\n",
    "from sklearn.cluster import KMeans\n",
    "#Initialize SpotiPy with user credentias\n",
    "sp = spotipy.Spotify(auth_manager=SpotifyClientCredentials(client_id= config.client_id,\n",
    "                                                           client_secret= config.client_secret))\n",
    "\n",
    "df = pd.read_csv(\"billboard100_data.csv\")\n",
    "df_cluster = pd.read_csv(\"clustered_data.csv\")"
   ]
  },
  {
   "cell_type": "code",
   "execution_count": 116,
   "id": "841c0c47",
   "metadata": {},
   "outputs": [
    {
     "data": {
      "text/html": [
       "<div>\n",
       "<style scoped>\n",
       "    .dataframe tbody tr th:only-of-type {\n",
       "        vertical-align: middle;\n",
       "    }\n",
       "\n",
       "    .dataframe tbody tr th {\n",
       "        vertical-align: top;\n",
       "    }\n",
       "\n",
       "    .dataframe thead th {\n",
       "        text-align: right;\n",
       "    }\n",
       "</style>\n",
       "<table border=\"1\" class=\"dataframe\">\n",
       "  <thead>\n",
       "    <tr style=\"text-align: right;\">\n",
       "      <th></th>\n",
       "      <th>title</th>\n",
       "      <th>author</th>\n",
       "    </tr>\n",
       "  </thead>\n",
       "  <tbody>\n",
       "    <tr>\n",
       "      <th>0</th>\n",
       "      <td>flowers</td>\n",
       "      <td>miley cyrus</td>\n",
       "    </tr>\n",
       "    <tr>\n",
       "      <th>1</th>\n",
       "      <td>kill bill</td>\n",
       "      <td>sza</td>\n",
       "    </tr>\n",
       "    <tr>\n",
       "      <th>2</th>\n",
       "      <td>last night</td>\n",
       "      <td>morgan wallen</td>\n",
       "    </tr>\n",
       "    <tr>\n",
       "      <th>3</th>\n",
       "      <td>unholy</td>\n",
       "      <td>sam smith &amp; kim petras</td>\n",
       "    </tr>\n",
       "    <tr>\n",
       "      <th>4</th>\n",
       "      <td>creepin'</td>\n",
       "      <td>metro boomin, the weeknd &amp; 21 savage</td>\n",
       "    </tr>\n",
       "    <tr>\n",
       "      <th>...</th>\n",
       "      <td>...</td>\n",
       "      <td>...</td>\n",
       "    </tr>\n",
       "    <tr>\n",
       "      <th>95</th>\n",
       "      <td>yandel 150</td>\n",
       "      <td>yandel &amp; feid</td>\n",
       "    </tr>\n",
       "    <tr>\n",
       "      <th>96</th>\n",
       "      <td>heart to heart</td>\n",
       "      <td>mac demarco</td>\n",
       "    </tr>\n",
       "    <tr>\n",
       "      <th>97</th>\n",
       "      <td>next thing you know</td>\n",
       "      <td>jordan davis</td>\n",
       "    </tr>\n",
       "    <tr>\n",
       "      <th>98</th>\n",
       "      <td>never gonna not dance again</td>\n",
       "      <td>p!nk</td>\n",
       "    </tr>\n",
       "    <tr>\n",
       "      <th>99</th>\n",
       "      <td>open arms</td>\n",
       "      <td>sza featuring travis scott</td>\n",
       "    </tr>\n",
       "  </tbody>\n",
       "</table>\n",
       "<p>100 rows × 2 columns</p>\n",
       "</div>"
      ],
      "text/plain": [
       "                          title                                author\n",
       "0                       flowers                           miley cyrus\n",
       "1                     kill bill                                   sza\n",
       "2                    last night                         morgan wallen\n",
       "3                        unholy                sam smith & kim petras\n",
       "4                      creepin'  metro boomin, the weeknd & 21 savage\n",
       "..                          ...                                   ...\n",
       "95                   yandel 150                         yandel & feid\n",
       "96               heart to heart                           mac demarco\n",
       "97          next thing you know                          jordan davis\n",
       "98  never gonna not dance again                                  p!nk\n",
       "99                    open arms            sza featuring travis scott\n",
       "\n",
       "[100 rows x 2 columns]"
      ]
     },
     "execution_count": 116,
     "metadata": {},
     "output_type": "execute_result"
    }
   ],
   "source": [
    "df['title'] = df['title'].map(str.lower) # converting the entries to lower\n",
    "df['author'] = df['author'].map(str.lower) # converting the entries to lower"
   ]
  },
  {
   "cell_type": "code",
   "execution_count": 125,
   "id": "04187015",
   "metadata": {},
   "outputs": [
    {
     "name": "stdout",
     "output_type": "stream",
     "text": [
      "Enter a song you like: flowerzz\n",
      "You might like this song: Lionheart (Fearless) by Joel Corry\n"
     ]
    }
   ],
   "source": [
    "x = input('Enter a song you like: ')\n",
    "x_artist = df.loc[df['title'].map(str.lower)  == x.lower(), 'author'] # artist corresponding to song x\n",
    "if x.lower() in df.values:   # converts the entered x into all lower case. When x is in the billboard100\n",
    "        rec_song = df['title'].sample().to_string(index=False) # recommendation song. I just removed the indexes as they are not required as the output  \n",
    "        rec_artist = df.loc[df['title'] == rec_song, 'author'].to_string(index=False) # artist of the recommended song\n",
    "        print(\"You might like this song: \" + rec_song.title() + \" by \" + rec_artist.title())  # .title() makes the first alphabet in every word to upper   \n",
    "else: \n",
    "    results = sp.search(q=x,limit=3,market=\"GB\")\n",
    "    track_id=track_id=results[\"tracks\"][\"items\"][0][\"id\"]\n",
    "    x_af = sp.audio_features(track_id) \n",
    "    X_af = pd.DataFrame(x_af)\n",
    "    X_af_num = X_af.drop(['key', 'mode', 'type', 'id', 'uri', 'track_href', 'analysis_url', 'duration_ms', 'time_signature'], axis=1)\n",
    "    df_spotify = pd.read_csv(\"spotify_data.csv\")\n",
    "   \n",
    "    X = df_spotify.drop(['id', 'duration_ms'], axis=1) # spotify data without id and duration\n",
    "    scaler = StandardScaler()\n",
    "    scaler_fitted = scaler.fit(X) # we need scaler_fitted for transforming the song which is to be inputed \n",
    "    X_scaled = scaler_fitted.transform(X)\n",
    "    X_scaled_df = pd.DataFrame(X_scaled, columns = X.columns) # scaled the numerical feature data X\n",
    "\n",
    "    X_af_num_scaled = scaler_fitted.transform(X_af_num) # scaled according to the parameters from scaler_fitted (which you get from your data X)\n",
    "    \n",
    "    kmeans = KMeans(n_clusters=4, random_state=1234)\n",
    "    kmeans.fit(X_scaled_df.values)\n",
    "    song_cluster = kmeans.predict(X_af_num_scaled) # cluster of the inputed song\n",
    "    \n",
    "    if song_cluster == 0:  \n",
    "        mask = df_cluster['cluster'] == 0\n",
    "        selected_rows = df_cluster[mask]\n",
    "        random_row = selected_rows.sample()\n",
    "        track_id = random_row['id'].to_string(index=False)\n",
    "        track_id\n",
    "        track = sp.track(track_id)\n",
    "        print('You might like this song: ' + track[\"album\"][\"name\"]+ ' by ' + track[\"album\"][\"artists\"][0][\"name\"])  \n",
    "    elif song_cluster == 1:    \n",
    "        mask = df_cluster['cluster'] == 1\n",
    "        selected_rows = df_cluster[mask]\n",
    "        random_row = selected_rows.sample()\n",
    "        track_id = random_row['id'].to_string(index=False)\n",
    "        track_id\n",
    "        track = sp.track(track_id)\n",
    "        print('You might like this song: ' + track[\"album\"][\"name\"]+ ' by ' + track[\"album\"][\"artists\"][0][\"name\"]) \n",
    "    elif song_cluster == 2:\n",
    "        mask = df_cluster['cluster'] == 2\n",
    "        selected_rows = df_cluster[mask]\n",
    "        random_row = selected_rows.sample()\n",
    "        track_id = random_row['id'].to_string(index=False)\n",
    "        track_id\n",
    "        track = sp.track(track_id)\n",
    "        print('You might like this song: ' + track[\"album\"][\"name\"]+ ' by ' + track[\"album\"][\"artists\"][0][\"name\"])   \n",
    "    else:\n",
    "        mask = df_cluster['cluster'] == 3\n",
    "        selected_rows = df_cluster[mask]\n",
    "        random_row = selected_rows.sample()\n",
    "        track_id = random_row['id'].to_string(index=False)\n",
    "        track_id\n",
    "        track = sp.track(track_id)\n",
    "        print('You might like this song: ' + track[\"album\"][\"name\"]+ ' by ' + track[\"album\"][\"artists\"][0][\"name\"])   "
   ]
  },
  {
   "cell_type": "code",
   "execution_count": 119,
   "id": "29960e6d",
   "metadata": {
    "scrolled": true
   },
   "outputs": [
    {
     "data": {
      "text/html": [
       "\n",
       "        <iframe\n",
       "            width=\"320\"\n",
       "            height=\"80\"\n",
       "            src=\"https://open.spotify.com/embed/track/6dgUya35uo964z7GZXM07g?frameborder=0&allowtransparency=true&allow=encrypted-media\"\n",
       "            frameborder=\"0\"\n",
       "            allowfullscreen\n",
       "            \n",
       "        ></iframe>\n",
       "        "
      ],
      "text/plain": [
       "<IPython.lib.display.IFrame at 0x15d3f909a00>"
      ]
     },
     "execution_count": 119,
     "metadata": {},
     "output_type": "execute_result"
    }
   ],
   "source": [
    "# Just want to play the inputed song\n",
    "from IPython.display import IFrame\n",
    "\n",
    "IFrame(src=\"https://open.spotify.com/embed/track/\"+track_id,\n",
    "       width=\"320\",\n",
    "       height=\"80\",\n",
    "       frameborder=\"0\",\n",
    "       allowtransparency=\"true\",\n",
    "       allow=\"encrypted-media\",\n",
    "      )"
   ]
  },
  {
   "cell_type": "code",
   "execution_count": null,
   "id": "5c4e3783",
   "metadata": {},
   "outputs": [],
   "source": []
  },
  {
   "cell_type": "code",
   "execution_count": null,
   "id": "abb41415",
   "metadata": {},
   "outputs": [],
   "source": []
  }
 ],
 "metadata": {
  "kernelspec": {
   "display_name": "Python 3 (ipykernel)",
   "language": "python",
   "name": "python3"
  },
  "language_info": {
   "codemirror_mode": {
    "name": "ipython",
    "version": 3
   },
   "file_extension": ".py",
   "mimetype": "text/x-python",
   "name": "python",
   "nbconvert_exporter": "python",
   "pygments_lexer": "ipython3",
   "version": "3.9.13"
  }
 },
 "nbformat": 4,
 "nbformat_minor": 5
}
